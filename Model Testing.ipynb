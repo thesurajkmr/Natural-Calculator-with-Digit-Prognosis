{
 "cells": [
  {
   "cell_type": "code",
   "execution_count": 1,
   "metadata": {
    "ExecuteTime": {
     "end_time": "2020-12-23T19:17:48.214326Z",
     "start_time": "2020-12-23T19:17:45.986633Z"
    },
    "id": "bGpXVP-xekZe"
   },
   "outputs": [
    {
     "name": "stdout",
     "output_type": "stream",
     "text": [
      "Downloading data from https://storage.googleapis.com/tensorflow/tf-keras-datasets/mnist.npz\n",
      "11493376/11490434 [==============================] - 28s 2us/step\n"
     ]
    }
   ],
   "source": [
    "from keras.models import Sequential,load_model\n",
    "from keras.layers import Dense\n",
    "from keras.layers import Conv2D\n",
    "from keras.layers import MaxPool2D\n",
    "from keras.layers import Dropout,Flatten\n",
    "import tensorflow as tf\n",
    "#creating a model\n",
    "model=Sequential()\n",
    "(x_train, y_train), (x_test, y_test) = tf.keras.datasets.mnist.load_data()"
   ]
  },
  {
   "cell_type": "code",
   "execution_count": 2,
   "metadata": {
    "ExecuteTime": {
     "end_time": "2020-12-23T19:17:48.232239Z",
     "start_time": "2020-12-23T19:17:48.217104Z"
    },
    "colab": {
     "base_uri": "https://localhost:8080/"
    },
    "id": "drnF5YfgfHYZ",
    "outputId": "ac4d8b1c-7a9a-475a-dfcc-ed902791da0f"
   },
   "outputs": [
    {
     "data": {
      "text/plain": [
       "(60000, 28, 28, 1)"
      ]
     },
     "execution_count": 2,
     "metadata": {},
     "output_type": "execute_result"
    }
   ],
   "source": [
    "input_width=28\n",
    "input_height=28\n",
    "no_of_channels=1\n",
    "x_train=x_train.reshape(-1,input_width,input_height,no_of_channels)\n",
    "x_train.shape"
   ]
  },
  {
   "cell_type": "code",
   "execution_count": 3,
   "metadata": {
    "ExecuteTime": {
     "end_time": "2020-12-23T19:17:48.354451Z",
     "start_time": "2020-12-23T19:17:48.234432Z"
    },
    "id": "f3_j28RQAGKL"
   },
   "outputs": [],
   "source": [
    "x_test=x_test.reshape(-1,input_width,input_height,no_of_channels)\n"
   ]
  },
  {
   "cell_type": "code",
   "execution_count": 4,
   "metadata": {
    "ExecuteTime": {
     "end_time": "2020-12-23T19:17:48.442459Z",
     "start_time": "2020-12-23T19:17:48.358374Z"
    },
    "id": "TUbjnFa1k4Qa"
   },
   "outputs": [],
   "source": [
    "layer1=Conv2D(input_shape=(input_width,input_height,no_of_channels),\n",
    "              filters=(32),kernel_size=(5,5),padding='SAME',activation='relu')\n",
    "layer2=MaxPool2D(pool_size=(2, 2))\n",
    "layer3=Conv2D(filters=(64),kernel_size=(5,5),padding='SAME',activation='relu')\n",
    "layer4=MaxPool2D(pool_size=(2, 2))\n",
    "layer5=Dropout(.2)\n",
    "layer6=Flatten()\n",
    "layer7=Dense(1024, activation='sigmoid') \n",
    "layer8=Dense(10, activation='softmax')"
   ]
  },
  {
   "cell_type": "code",
   "execution_count": 5,
   "metadata": {
    "ExecuteTime": {
     "end_time": "2020-12-23T19:17:48.693397Z",
     "start_time": "2020-12-23T19:17:48.444798Z"
    },
    "id": "6nqksaOJjW3C"
   },
   "outputs": [],
   "source": [
    "model.add(layer1)\n",
    "model.add(layer2)\n",
    "model.add(layer3)\n",
    "model.add(layer4)\n",
    "model.add(layer5)\n",
    "model.add(layer6)\n",
    "model.add(layer7)\n",
    "model.add(layer8)"
   ]
  },
  {
   "cell_type": "code",
   "execution_count": 6,
   "metadata": {
    "ExecuteTime": {
     "end_time": "2020-12-23T19:17:48.710756Z",
     "start_time": "2020-12-23T19:17:48.695328Z"
    },
    "id": "hw5m1G3bj4Q6"
   },
   "outputs": [],
   "source": [
    "model.compile(optimizer='adam',loss='binary_crossentropy',metrics=['accuracy'])"
   ]
  },
  {
   "cell_type": "code",
   "execution_count": 7,
   "metadata": {
    "ExecuteTime": {
     "end_time": "2020-12-23T19:17:52.635264Z",
     "start_time": "2020-12-23T19:17:48.713662Z"
    },
    "id": "EhVQKuKZfJhE"
   },
   "outputs": [],
   "source": [
    "from sklearn.preprocessing import OneHotEncoder\n",
    "onehot=OneHotEncoder()\n",
    "y_train=onehot.fit_transform(y_train.reshape(-1,1)).todense()\n",
    "y_test=onehot.transform(y_test.reshape(-1,1)).todense()"
   ]
  },
  {
   "cell_type": "code",
   "execution_count": 8,
   "metadata": {
    "ExecuteTime": {
     "end_time": "2020-12-23T19:27:24.473708Z",
     "start_time": "2020-12-23T19:17:52.639990Z"
    },
    "colab": {
     "base_uri": "https://localhost:8080/"
    },
    "id": "No1_ANyRfL-T",
    "outputId": "8e190dc0-f5fa-4eeb-e97c-44343a09ce8f"
   },
   "outputs": [
    {
     "name": "stdout",
     "output_type": "stream",
     "text": [
      "Epoch 1/5\n",
      "120/120 [==============================] - 136s 1s/step - loss: 0.2273 - accuracy: 0.6705\n",
      "Epoch 2/5\n",
      "120/120 [==============================] - 140s 1s/step - loss: 0.0167 - accuracy: 0.9804\n",
      "Epoch 3/5\n",
      "120/120 [==============================] - 137s 1s/step - loss: 0.0089 - accuracy: 0.9893\n",
      "Epoch 4/5\n",
      "120/120 [==============================] - 131s 1s/step - loss: 0.0066 - accuracy: 0.9920\n",
      "Epoch 5/5\n",
      "120/120 [==============================] - 148s 1s/step - loss: 0.0055 - accuracy: 0.9927\n"
     ]
    },
    {
     "data": {
      "text/plain": [
       "<tensorflow.python.keras.callbacks.History at 0x1cd4ed91148>"
      ]
     },
     "execution_count": 8,
     "metadata": {},
     "output_type": "execute_result"
    }
   ],
   "source": [
    "model.fit(x_train, y_train, epochs=5,batch_size=500) "
   ]
  },
  {
   "cell_type": "code",
   "execution_count": 9,
   "metadata": {
    "ExecuteTime": {
     "end_time": "2020-12-23T19:27:32.506744Z",
     "start_time": "2020-12-23T19:27:24.478355Z"
    },
    "colab": {
     "base_uri": "https://localhost:8080/"
    },
    "id": "pUgdZpOYia3R",
    "outputId": "f416e643-82fe-46d1-cc61-b0f5a3d36203"
   },
   "outputs": [
    {
     "name": "stdout",
     "output_type": "stream",
     "text": [
      "313/313 [==============================] - 8s 23ms/step - loss: 0.0049 - accuracy: 0.9928\n"
     ]
    },
    {
     "data": {
      "text/plain": [
       "[0.004936321172863245, 0.9927999973297119]"
      ]
     },
     "execution_count": 9,
     "metadata": {},
     "output_type": "execute_result"
    }
   ],
   "source": [
    "model.evaluate(x_test,y_test)"
   ]
  },
  {
   "cell_type": "code",
   "execution_count": 10,
   "metadata": {
    "ExecuteTime": {
     "end_time": "2020-12-23T19:28:20.883994Z",
     "start_time": "2020-12-23T19:27:32.508618Z"
    },
    "colab": {
     "base_uri": "https://localhost:8080/"
    },
    "id": "uw7wHa85iW3p",
    "outputId": "144193e5-668c-49c0-df0f-e57c2c2c4936"
   },
   "outputs": [
    {
     "name": "stdout",
     "output_type": "stream",
     "text": [
      "1875/1875 [==============================] - 53s 28ms/step - loss: 0.0033 - accuracy: 0.9965\n"
     ]
    },
    {
     "data": {
      "text/plain": [
       "[0.003347477875649929, 0.9965000152587891]"
      ]
     },
     "execution_count": 10,
     "metadata": {},
     "output_type": "execute_result"
    }
   ],
   "source": [
    "model.evaluate(x_train,y_train)"
   ]
  },
  {
   "cell_type": "code",
   "execution_count": 11,
   "metadata": {
    "ExecuteTime": {
     "end_time": "2020-12-23T19:28:20.898333Z",
     "start_time": "2020-12-23T19:28:20.886603Z"
    }
   },
   "outputs": [
    {
     "name": "stdout",
     "output_type": "stream",
     "text": [
      "Model: \"sequential\"\n",
      "_________________________________________________________________\n",
      "Layer (type)                 Output Shape              Param #   \n",
      "=================================================================\n",
      "conv2d (Conv2D)              (None, 28, 28, 32)        832       \n",
      "_________________________________________________________________\n",
      "max_pooling2d (MaxPooling2D) (None, 14, 14, 32)        0         \n",
      "_________________________________________________________________\n",
      "conv2d_1 (Conv2D)            (None, 14, 14, 64)        51264     \n",
      "_________________________________________________________________\n",
      "max_pooling2d_1 (MaxPooling2 (None, 7, 7, 64)          0         \n",
      "_________________________________________________________________\n",
      "dropout (Dropout)            (None, 7, 7, 64)          0         \n",
      "_________________________________________________________________\n",
      "flatten (Flatten)            (None, 3136)              0         \n",
      "_________________________________________________________________\n",
      "dense (Dense)                (None, 1024)              3212288   \n",
      "_________________________________________________________________\n",
      "dense_1 (Dense)              (None, 10)                10250     \n",
      "=================================================================\n",
      "Total params: 3,274,634\n",
      "Trainable params: 3,274,634\n",
      "Non-trainable params: 0\n",
      "_________________________________________________________________\n"
     ]
    }
   ],
   "source": [
    "model.summary()"
   ]
  },
  {
   "cell_type": "code",
   "execution_count": null,
   "metadata": {
    "ExecuteTime": {
     "end_time": "2020-12-20T13:13:49.868608Z",
     "start_time": "2020-12-20T13:13:49.844107Z"
    },
    "colab": {
     "background_save": true
    },
    "id": "WG05RSjRidnB"
   },
   "outputs": [],
   "source": []
  },
  {
   "cell_type": "code",
   "execution_count": 14,
   "metadata": {
    "ExecuteTime": {
     "end_time": "2020-12-23T19:28:23.168805Z",
     "start_time": "2020-12-23T19:28:20.900246Z"
    },
    "colab": {
     "background_save": true
    },
    "id": "23xouZUvf3Mr"
   },
   "outputs": [
    {
     "name": "stdout",
     "output_type": "stream",
     "text": [
      "INFO:tensorflow:Assets written to: C:\\Users\\suraj\\Desktop\\Work\\Model\\assets\n"
     ]
    }
   ],
   "source": [
    "model.save(r'C:\\Users\\suraj\\Desktop\\Work\\Model')"
   ]
  },
  {
   "cell_type": "code",
   "execution_count": 15,
   "metadata": {
    "ExecuteTime": {
     "end_time": "2020-12-23T19:28:23.931876Z",
     "start_time": "2020-12-23T19:28:23.178709Z"
    },
    "colab": {
     "background_save": true
    },
    "id": "qC_7Luu6gAcY"
   },
   "outputs": [],
   "source": [
    "from keras.models import Sequential,load_model\n",
    "\n",
    "model1=load_model(r'C:\\Users\\suraj\\Desktop\\Work\\Model')"
   ]
  },
  {
   "cell_type": "code",
   "execution_count": 16,
   "metadata": {
    "ExecuteTime": {
     "end_time": "2020-12-23T19:28:23.944102Z",
     "start_time": "2020-12-23T19:28:23.934329Z"
    },
    "colab": {
     "background_save": true
    },
    "id": "FWxk3CwOfRl0"
   },
   "outputs": [
    {
     "name": "stdout",
     "output_type": "stream",
     "text": [
      "Model: \"sequential\"\n",
      "_________________________________________________________________\n",
      "Layer (type)                 Output Shape              Param #   \n",
      "=================================================================\n",
      "conv2d (Conv2D)              (None, 28, 28, 32)        832       \n",
      "_________________________________________________________________\n",
      "max_pooling2d (MaxPooling2D) (None, 14, 14, 32)        0         \n",
      "_________________________________________________________________\n",
      "conv2d_1 (Conv2D)            (None, 14, 14, 64)        51264     \n",
      "_________________________________________________________________\n",
      "max_pooling2d_1 (MaxPooling2 (None, 7, 7, 64)          0         \n",
      "_________________________________________________________________\n",
      "dropout (Dropout)            (None, 7, 7, 64)          0         \n",
      "_________________________________________________________________\n",
      "flatten (Flatten)            (None, 3136)              0         \n",
      "_________________________________________________________________\n",
      "dense (Dense)                (None, 1024)              3212288   \n",
      "_________________________________________________________________\n",
      "dense_1 (Dense)              (None, 10)                10250     \n",
      "=================================================================\n",
      "Total params: 3,274,634\n",
      "Trainable params: 3,274,634\n",
      "Non-trainable params: 0\n",
      "_________________________________________________________________\n"
     ]
    }
   ],
   "source": [
    "model1.summary()"
   ]
  },
  {
   "cell_type": "code",
   "execution_count": 17,
   "metadata": {
    "ExecuteTime": {
     "end_time": "2020-12-23T19:28:31.335881Z",
     "start_time": "2020-12-23T19:28:23.947110Z"
    },
    "colab": {
     "background_save": true
    },
    "id": "VJRihBGifkDx"
   },
   "outputs": [
    {
     "name": "stdout",
     "output_type": "stream",
     "text": [
      "313/313 [==============================] - 9s 27ms/step - loss: 0.0049 - accuracy: 0.9928 0s - loss: 0.0048 - ac - ETA: 0s - loss: 0.0050 - accuracy: 0.\n"
     ]
    },
    {
     "data": {
      "text/plain": [
       "[0.004936321172863245, 0.9927999973297119]"
      ]
     },
     "execution_count": 17,
     "metadata": {},
     "output_type": "execute_result"
    }
   ],
   "source": [
    "model1.evaluate(x_test,y_test)"
   ]
  },
  {
   "cell_type": "code",
   "execution_count": 18,
   "metadata": {
    "ExecuteTime": {
     "end_time": "2020-12-23T19:28:31.346254Z",
     "start_time": "2020-12-23T19:28:31.339580Z"
    },
    "colab": {
     "background_save": true
    },
    "id": "6xNF-6FCflza"
   },
   "outputs": [
    {
     "data": {
      "text/plain": [
       "(10000, 28, 28, 1)"
      ]
     },
     "execution_count": 18,
     "metadata": {},
     "output_type": "execute_result"
    }
   ],
   "source": [
    "x_test.shape"
   ]
  },
  {
   "cell_type": "code",
   "execution_count": 19,
   "metadata": {
    "ExecuteTime": {
     "end_time": "2020-12-23T19:28:31.463995Z",
     "start_time": "2020-12-23T19:28:31.349200Z"
    }
   },
   "outputs": [],
   "source": [
    "first_image=x_test[0]\n",
    "first_image=first_image.reshape(-1,input_height,input_width,no_of_channels)"
   ]
  },
  {
   "cell_type": "code",
   "execution_count": 20,
   "metadata": {
    "ExecuteTime": {
     "end_time": "2020-12-23T19:28:31.545040Z",
     "start_time": "2020-12-23T19:28:31.468890Z"
    }
   },
   "outputs": [
    {
     "data": {
      "text/plain": [
       "(1, 28, 28, 1)"
      ]
     },
     "execution_count": 20,
     "metadata": {},
     "output_type": "execute_result"
    }
   ],
   "source": [
    "first_image.shape"
   ]
  },
  {
   "cell_type": "code",
   "execution_count": 21,
   "metadata": {
    "ExecuteTime": {
     "end_time": "2020-12-23T19:35:14.270333Z",
     "start_time": "2020-12-23T19:35:14.126856Z"
    }
   },
   "outputs": [
    {
     "data": {
      "text/plain": [
       "7"
      ]
     },
     "execution_count": 21,
     "metadata": {},
     "output_type": "execute_result"
    }
   ],
   "source": [
    "import numpy as np\n",
    "np.argmax(model1.predict(first_image))"
   ]
  },
  {
   "cell_type": "code",
   "execution_count": 22,
   "metadata": {
    "ExecuteTime": {
     "end_time": "2020-12-23T19:35:16.532239Z",
     "start_time": "2020-12-23T19:35:15.019387Z"
    }
   },
   "outputs": [
    {
     "data": {
      "text/plain": [
       "<matplotlib.image.AxesImage at 0x1cd4fb93088>"
      ]
     },
     "execution_count": 22,
     "metadata": {},
     "output_type": "execute_result"
    },
    {
     "data": {
      "image/png": "[encoded data removed]",
      "text/plain": [
       "<Figure size 216x216 with 1 Axes>"
      ]
     },
     "metadata": {
      "needs_background": "light"
     },
     "output_type": "display_data"
    }
   ],
   "source": [
    "import matplotlib.pyplot as plt\n",
    "fig=plt.figure(figsize=(3,3))\n",
    "ax=fig.add_subplot(1,1,1)\n",
    "ax.imshow(first_image.reshape(input_height,input_width))"
   ]
  },
  {
   "cell_type": "code",
   "execution_count": null,
   "metadata": {
    "ExecuteTime": {
     "end_time": "2020-12-23T19:35:19.308633Z",
     "start_time": "2020-12-23T19:35:18.442154Z"
    }
   },
   "outputs": [],
   "source": [
    "import skimage\n",
    "from skimage.io import imread\n",
    "file_path='/home/suraj/Apps/Minor Project 1/mnist_png-master/mnist_png/testing/2/222.png'\n",
    "img = skimage.io.imread(file_path)"
   ]
  },
  {
   "cell_type": "code",
   "execution_count": null,
   "metadata": {
    "ExecuteTime": {
     "end_time": "2020-12-23T19:35:20.999775Z",
     "start_time": "2020-12-23T19:35:20.996207Z"
    }
   },
   "outputs": [],
   "source": [
    "image=img.reshape(1,28,28,1)"
   ]
  },
  {
   "cell_type": "code",
   "execution_count": null,
   "metadata": {
    "ExecuteTime": {
     "end_time": "2020-12-23T19:35:21.605999Z",
     "start_time": "2020-12-23T19:35:21.548091Z"
    }
   },
   "outputs": [],
   "source": [
    "np.argmax(model1.predict(image))"
   ]
  },
  {
   "cell_type": "code",
   "execution_count": null,
   "metadata": {
    "ExecuteTime": {
     "end_time": "2020-12-21T20:07:53.199858Z",
     "start_time": "2020-12-21T20:07:53.189560Z"
    }
   },
   "outputs": [],
   "source": []
  },
  {
   "cell_type": "code",
   "execution_count": null,
   "metadata": {},
   "outputs": [],
   "source": []
  }
 ],
 "metadata": {
  "colab": {
   "name": "sample1.ipynb",
   "provenance": []
  },
  "kernelspec": {
   "display_name": "Python 3",
   "language": "python",
   "name": "python3"
  },
  "language_info": {
   "codemirror_mode": {
    "name": "ipython",
    "version": 3
   },
   "file_extension": ".py",
   "mimetype": "text/x-python",
   "name": "python",
   "nbconvert_exporter": "python",
   "pygments_lexer": "ipython3",
   "version": "3.7.6"
  },
  "varInspector": {
   "cols": {
    "lenName": 16,
    "lenType": 16,
    "lenVar": 40
   },
   "kernels_config": {
    "python": {
     "delete_cmd_postfix": "",
     "delete_cmd_prefix": "del ",
     "library": "var_list.py",
     "varRefreshCmd": "print(var_dic_list())"
    },
    "r": {
     "delete_cmd_postfix": ") ",
     "delete_cmd_prefix": "rm(",
     "library": "var_list.r",
     "varRefreshCmd": "cat(var_dic_list()) "
    }
   },
   "types_to_exclude": [
    "module",
    "function",
    "builtin_function_or_method",
    "instance",
    "_Feature"
   ],
   "window_display": false
  }
 },
 "nbformat": 4,
 "nbformat_minor": 1
}
