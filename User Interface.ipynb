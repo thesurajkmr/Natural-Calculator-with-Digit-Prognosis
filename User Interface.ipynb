{
 "cells": [
  {
   "cell_type": "code",
   "execution_count": 4,
   "metadata": {
    "ExecuteTime": {
     "end_time": "2020-12-24T08:21:40.746880Z",
     "start_time": "2020-12-24T08:21:08.634087Z"
    }
   },
   "outputs": [],
   "source": [
    "from keras.models import Sequential,load_model\n",
    "from keras.layers import Dense,Conv2D,MaxPool2D,Dropout,Flatten\n",
    "import tkinter as tk\n",
    "from tkinter import filedialog\n",
    "import skimage,os\n",
    "from skimage.io import imread\n",
    "import tensorflow as tf\n",
    "from tkinter import *\n",
    "model_path=r'C:\\Users\\suraj\\Desktop\\Work\\Model'\n",
    "model1=load_model(model_path)\n",
    "from PIL import ImageTk, Image\n",
    "import numpy as np"
   ]
  },
  {
   "cell_type": "code",
   "execution_count": 5,
   "metadata": {
    "ExecuteTime": {
     "end_time": "2020-12-24T08:21:40.764909Z",
     "start_time": "2020-12-24T08:21:40.749809Z"
    }
   },
   "outputs": [],
   "source": [
    "def load_img():\n",
    "    global img, image_data\n",
    "    for img_display in frame.winfo_children():\n",
    "        img_display.destroy()\n",
    "    initial_path=r'C:\\Users\\suraj\\Desktop\\Work\\New folder (2)\\l\\mnist_png/'\n",
    "    image_data = filedialog.askopenfilename(initialdir=initial_path, title=\"Choose an image\",\n",
    "                                       filetypes=((\"all files\", \"*.*\"), (\"png files\", \"*.png\")))\n",
    "    a = image_data\n",
    "    global file \n",
    "    file = a\n",
    "    basewidth = 400 # Processing image for displaying\n",
    "    img = Image.open(image_data)\n",
    "    wpercent = (basewidth / float(img.size[0]))\n",
    "    hsize = int((float(img.size[1]) * float(wpercent)))\n",
    "    img = img.resize((basewidth, hsize), Image.ANTIALIAS)\n",
    "    img = ImageTk.PhotoImage(img)\n",
    "    file_name = image_data.split('/')\n",
    "    panel = tk.Label(frame, text= str(file_name[len(file_name)-1]).upper()).pack()\n",
    "    panel_image = tk.Label(frame, image=img).pack()"
   ]
  },
  {
   "cell_type": "code",
   "execution_count": 6,
   "metadata": {
    "ExecuteTime": {
     "end_time": "2020-12-24T08:21:40.895642Z",
     "start_time": "2020-12-24T08:21:40.768427Z"
    }
   },
   "outputs": [],
   "source": [
    "def test():\n",
    "    img = (skimage.io.imread(file)).reshape(1,28,28,1)\n",
    "    number=np.argmax(model1.predict(img))\n",
    "    user=\"Number is \" +str(number)\n",
    "    table = tk.Label(frame, text=user).pack()"
   ]
  },
  {
   "cell_type": "code",
   "execution_count": 7,
   "metadata": {
    "ExecuteTime": {
     "end_time": "2020-12-24T08:21:40.971245Z",
     "start_time": "2020-12-24T08:21:40.899394Z"
    }
   },
   "outputs": [],
   "source": [
    "def Draw():\n",
    "    win=tk.Tk()\n",
    "    win.title('Draw Your Own Image')\n",
    "    win.mainloop()"
   ]
  },
  {
   "cell_type": "code",
   "execution_count": 8,
   "metadata": {
    "ExecuteTime": {
     "end_time": "2020-12-24T09:25:24.010838Z",
     "start_time": "2020-12-24T09:18:51.519062Z"
    }
   },
   "outputs": [],
   "source": [
    "root = tk.Tk()\n",
    "root.title('Sample')\n",
    "root.resizable(False, False)\n",
    "tit = tk.Label(root, text=\"Prototype\", padx=25, pady=6, font=(\"\", 12)).pack()\n",
    "canvas = tk.Canvas(root, height=500, width=500, bg='grey')\n",
    "canvas.pack()\n",
    "frame = tk.Frame(root, bg='white')\n",
    "frame.place(relwidth=0.8, relheight=0.8, relx=0.1, rely=0.1)\n",
    "chose_image = tk.Button(root, text='Choose Image',\n",
    "                        padx=35, pady=10,\n",
    "                        fg=\"white\", bg=\"grey\", command=load_img)\n",
    "chose_image.pack(side=tk.LEFT)\n",
    "class_image = tk.Button(root, text='Classify Image',\n",
    "                        padx=35, pady=10,\n",
    "                        fg=\"white\", bg=\"grey\", command=test)\n",
    "class_image.pack(side=tk.RIGHT)\n",
    "about_section=tk.Button(root, text='About',\n",
    "                        padx=35, pady=10,\n",
    "                        fg=\"white\", bg=\"grey\", command=Draw)\n",
    "about_section.pack(side=tk.BOTTOM)\n",
    "root.mainloop()"
   ]
  },
  {
   "cell_type": "code",
   "execution_count": null,
   "metadata": {
    "ExecuteTime": {
     "end_time": "2020-12-22T18:07:23.959583Z",
     "start_time": "2020-12-22T18:07:23.953625Z"
    }
   },
   "outputs": [],
   "source": []
  },
  {
   "cell_type": "code",
   "execution_count": null,
   "metadata": {},
   "outputs": [],
   "source": []
  }
 ],
 "metadata": {
  "kernelspec": {
   "display_name": "Python 3",
   "language": "python",
   "name": "python3"
  },
  "language_info": {
   "codemirror_mode": {
    "name": "ipython",
    "version": 3
   },
   "file_extension": ".py",
   "mimetype": "text/x-python",
   "name": "python",
   "nbconvert_exporter": "python",
   "pygments_lexer": "ipython3",
   "version": "3.7.6"
  },
  "varInspector": {
   "cols": {
    "lenName": 16,
    "lenType": 16,
    "lenVar": 40
   },
   "kernels_config": {
    "python": {
     "delete_cmd_postfix": "",
     "delete_cmd_prefix": "del ",
     "library": "var_list.py",
     "varRefreshCmd": "print(var_dic_list())"
    },
    "r": {
     "delete_cmd_postfix": ") ",
     "delete_cmd_prefix": "rm(",
     "library": "var_list.r",
     "varRefreshCmd": "cat(var_dic_list()) "
    }
   },
   "types_to_exclude": [
    "module",
    "function",
    "builtin_function_or_method",
    "instance",
    "_Feature"
   ],
   "window_display": false
  }
 },
 "nbformat": 4,
 "nbformat_minor": 4
}
